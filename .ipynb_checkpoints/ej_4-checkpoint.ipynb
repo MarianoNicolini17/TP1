{
 "cells": [
  {
   "cell_type": "markdown",
   "metadata": {},
   "source": [
    "# Enunciado - Ej 4"
   ]
  },
  {
   "cell_type": "code",
   "execution_count": 15,
   "metadata": {
    "scrolled": true
   },
   "outputs": [],
   "source": [
    "import os\n",
    "import numpy as np\n",
    "import pandas as pd\n",
    "import networkx as nx\n",
    "import matplotlib.pylab as plt\n",
    "import seaborn as sns\n",
    "\n",
    "%matplotlib inline\n",
    "\n",
    "from urllib.request import urlopen\n",
    "from collections import defaultdict\n",
    "\n",
    "pwd = os.getcwd()"
   ]
  },
  {
   "cell_type": "code",
   "execution_count": 7,
   "metadata": {},
   "outputs": [],
   "source": [
    "# Carga de datos\n",
    "colab_cient = nx.read_gml(pwd+'/Datos/netscience.gml')\n",
    "red_internet = nx.read_gml(pwd+'/Datos/as-22july06.gml')"
   ]
  },
  {
   "cell_type": "code",
   "execution_count": 168,
   "metadata": {},
   "outputs": [],
   "source": [
    "def grado_vecinos(G):\n",
    "    \"\"\"\n",
    "    INPUT:\n",
    "    OUTPUT:\n",
    "    \"\"\"\n",
    "    grados = defaultdict(list)\n",
    "    grado_med = defaultdict()\n",
    "    \n",
    "    for nodo, degree in G.degree():\n",
    "        grados[degree] = grados[degree]+[d for n, d in G.degree(G[nodo])]\n",
    "        \n",
    "    for elem in grados.keys():\n",
    "        grado_med[elem] = np.array(grados[elem]).mean()\n",
    "    \n",
    "    \"\"\"\n",
    "    for nodo in G.nodes():\n",
    "        vecinos = G[nodo]\n",
    "        if vecinos:\n",
    "            grado_vec[nodo] = np.array([d for n, d in G.degree(vecinos)]).mean()\n",
    "        else:\n",
    "            grado_vec[nodo] = 0\n",
    "    \n",
    "    grados = [d for n, d in G.degree()] \n",
    "    sns.distplot(grados, kde = False, color = \"g\", bins= range(min(grados),max(grados),1))\n",
    "    \"\"\"\n",
    "    \n",
    "    return grados, grado_med"
   ]
  },
  {
   "cell_type": "code",
   "execution_count": 169,
   "metadata": {},
   "outputs": [
    {
     "name": "stderr",
     "output_type": "stream",
     "text": [
      "/home/gaston/anaconda3/lib/python3.6/site-packages/ipykernel_launcher.py:13: RuntimeWarning: Mean of empty slice.\n",
      "  del sys.path[0]\n",
      "/home/gaston/anaconda3/lib/python3.6/site-packages/numpy/core/_methods.py:80: RuntimeWarning: invalid value encountered in double_scalars\n",
      "  ret = ret.dtype.type(ret / rcount)\n"
     ]
    }
   ],
   "source": [
    "g, grad_med1 = grado_vecinos(colab_cient)"
   ]
  },
  {
   "cell_type": "code",
   "execution_count": 190,
   "metadata": {},
   "outputs": [
    {
     "data": {
      "text/plain": [
       "[<matplotlib.lines.Line2D at 0x7fa07e5891d0>]"
      ]
     },
     "execution_count": 190,
     "metadata": {},
     "output_type": "execute_result"
    },
    {
     "data": {
      "image/png": "[encoded data removed]",
      "text/plain": [
       "<matplotlib.figure.Figure at 0x7fa07e666518>"
      ]
     },
     "metadata": {},
     "output_type": "display_data"
    }
   ],
   "source": [
    "plt.plot(pd.Series(grad_med1))"
   ]
  },
  {
   "cell_type": "code",
   "execution_count": 133,
   "metadata": {},
   "outputs": [],
   "source": [
    "from scipy import stats\n",
    "\n",
    "x = np.array([d for nodo, d in G.degree(G.nodes())])\n",
    "y = np.array([grad_med1[nodo] for nodo in G.nodes()])\n",
    "datos = pd.DataFrame({'x':x, 'y':y})\n",
    "datos_parsed = datos[datos.x != 0]"
   ]
  },
  {
   "cell_type": "code",
   "execution_count": 134,
   "metadata": {},
   "outputs": [],
   "source": [
    "gradient, intercept, r_value, p_value, std_err = stats.linregress(np.log(datos_parsed.x),np.log(datos_parsed.y))"
   ]
  },
  {
   "cell_type": "code",
   "execution_count": 135,
   "metadata": {},
   "outputs": [
    {
     "data": {
      "text/plain": [
       "(0.70788654830270137, 0.59037248661556652)"
      ]
     },
     "execution_count": 135,
     "metadata": {},
     "output_type": "execute_result"
    }
   ],
   "source": [
    "gradient, intercept"
   ]
  },
  {
   "cell_type": "code",
   "execution_count": 144,
   "metadata": {},
   "outputs": [],
   "source": [
    "def estimacion_potencia(G, dist_grado_vecinos):\n",
    "    \"\"\"\n",
    "    INPUT: El grafo G y la distribución media de grado, según la función grado_vecinos\n",
    "    OUTPUT: \n",
    "    \"\"\"\n",
    "    aux = []\n",
    "    x = np.array([d for nodo, d in G.degree(G.nodes())])\n",
    "    y = np.array([dist_grado_vecinos[nodo] for nodo in G.nodes()])\n",
    "    datos = pd.DataFrame({'x':x, 'y':y})\n",
    "    datos_parsed = datos[datos.x != 0]\n",
    "    \n",
    "    gradient, intercept, r_value, p_value, std_err = stats.linregress(np.log(datos_parsed.x),\n",
    "                                                                     np.log(datos_parsed.y))\n",
    "    \n",
    "    #plt.hist()np.exp(datos_parsed.x), np.exp(intercept + gradient * datos_parsed.y), kde = False\n",
    "    grados = [d for n, d in G.degree()]\n",
    "    \n",
    "    dist_grado_vecinos.hist()\n",
    "    plt.plot(range(min(grados),max(grados),1), np.exp(intercept + gradient * range(min(grados),max(grados),1)))\n",
    "    \n",
    "    return gradient, intercept"
   ]
  },
  {
   "cell_type": "code",
   "execution_count": 145,
   "metadata": {},
   "outputs": [
    {
     "data": {
      "text/plain": [
       "(0.70788654830270137, 0.59037248661556652)"
      ]
     },
     "execution_count": 145,
     "metadata": {},
     "output_type": "execute_result"
    },
    {
     "data": {
      "image/png": "[encoded data removed]",
      "text/plain": [
       "<matplotlib.figure.Figure at 0x7fa07e654c50>"
      ]
     },
     "metadata": {},
     "output_type": "display_data"
    }
   ],
   "source": [
    "estimacion_potencia(colab_cient, grad_med1)"
   ]
  }
 ],
 "metadata": {
  "kernelspec": {
   "display_name": "Python 3",
   "language": "python",
   "name": "python3"
  },
  "language_info": {
   "codemirror_mode": {
    "name": "ipython",
    "version": 3
   },
   "file_extension": ".py",
   "mimetype": "text/x-python",
   "name": "python",
   "nbconvert_exporter": "python",
   "pygments_lexer": "ipython3",
   "version": "3.6.3"
  }
 },
 "nbformat": 4,
 "nbformat_minor": 2
}
